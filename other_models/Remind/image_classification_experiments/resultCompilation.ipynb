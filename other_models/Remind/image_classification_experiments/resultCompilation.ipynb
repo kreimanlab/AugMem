{
 "cells": [
  {
   "cell_type": "code",
   "execution_count": 10,
   "id": "58f33fdb",
   "metadata": {},
   "outputs": [
    {
     "name": "stdout",
     "output_type": "stream",
     "text": [
      "CVPR paper Table 2: cifar100 : 16.07032208442688\n",
      "saving results to  compiled/cifar100_class_iid_test.csv\n"
     ]
    },
    {
     "name": "stderr",
     "output_type": "stream",
     "text": [
      "/home/mengmi/anaconda3/envs/py36/lib/python3.6/site-packages/ipykernel_launcher.py:28: RuntimeWarning: Mean of empty slice\n"
     ]
    }
   ],
   "source": [
    "import torch\n",
    "import numpy as np\n",
    "import json\n",
    "import pandas as pd\n",
    "import os\n",
    "\n",
    "\n",
    "dataset = \"cifar100\"\n",
    "scenario = 'class_iid'\n",
    "num_runs = 10\n",
    "num_tasks = 20\n",
    "\n",
    "avgacc = np.empty((num_runs, num_tasks))\n",
    "avgacc[:,:] = np.NaN\n",
    "\n",
    "for r in range(num_runs):\n",
    "    for t in range(num_tasks):\n",
    "        #fpathheader = dataset + '_scenario_' + scenario + '_run_' + str(r) + '_task_' + str(t)\n",
    "        fpathheader = dataset + '_run_' + str(r) + '_task_' + str(t)\n",
    "        fpath = 'results/accuracies_'+fpathheader + '.json'\n",
    "        if os.path.exists(fpath):\n",
    "            with open(fpath) as f:\n",
    "                data = json.load(f)\n",
    "            #print(data)\n",
    "            avgacc[r,t] = data['seen_classes_top1'][-1]\n",
    "\n",
    "#print(avgacc)\n",
    "result = np.nanmean(np.nanmean(avgacc, axis=1))\n",
    "print('CVPR paper Table 2: ' + dataset+' : ' + str(result))\n",
    "\n",
    "#write to csv files\n",
    "test_df = pd.DataFrame(avgacc)\n",
    "test_df.to_csv(('compiled/' + dataset +'_' + scenario +'_' + 'test.csv'), index=False, header=False)\n",
    "print('saving results to ', ('compiled/' + dataset +'_' + scenario +'_' + 'test.csv') )"
   ]
  },
  {
   "cell_type": "code",
   "execution_count": null,
   "id": "c4b833c6",
   "metadata": {},
   "outputs": [],
   "source": []
  }
 ],
 "metadata": {
  "kernelspec": {
   "display_name": "Python 3",
   "language": "python",
   "name": "python3"
  },
  "language_info": {
   "codemirror_mode": {
    "name": "ipython",
    "version": 3
   },
   "file_extension": ".py",
   "mimetype": "text/x-python",
   "name": "python",
   "nbconvert_exporter": "python",
   "pygments_lexer": "ipython3",
   "version": "3.6.13"
  }
 },
 "nbformat": 4,
 "nbformat_minor": 5
}
