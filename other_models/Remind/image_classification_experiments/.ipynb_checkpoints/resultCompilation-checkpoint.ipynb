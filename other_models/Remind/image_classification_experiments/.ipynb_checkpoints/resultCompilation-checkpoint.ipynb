{
 "cells": [
  {
   "cell_type": "code",
   "execution_count": null,
   "id": "2d2fa41d",
   "metadata": {},
   "outputs": [],
   "source": [
    "import torch\n",
    "import numpy as np\n",
    "import json\n",
    "import panda as pd\n",
    "\n",
    "dataset = \"cifar100\"\n",
    "scenario = 'class_iid'\n",
    "num_runs = 10\n",
    "num_tasks = 5\n",
    "\n",
    "avgacc = np.nan((num_runs, num_tasks))\n",
    "\n",
    "for r in range(num_runs):\n",
    "    for t in range(num_tasks):\n",
    "        #fpathheader = dataset + '_scenario_' + scenario + '_run_' + str(r) + '_task_' + str(t)\n",
    "        fpathheader = dataset + '_run_' + str(r) + '_task_' + str(t)\n",
    "        with open('results/accuracies_'+fpathheader + '.json') as f:\n",
    "            data = json.load(f)\n",
    "        print(data)\n",
    "        avgacc[r,t] = data['seen_classes_top1'][-1]\n",
    "\n",
    "result = np.mean(avgacc, axis=1)\n",
    "print('CVPR paper Table 2: ' + dataset+' : ' + str(result))\n",
    "\n",
    "#write to csv files\n",
    "test_df = pd.DataFrame(avgacc)\n",
    "test_df.to_csv(('compiled/' + dataset +'_' + scenario +'_' + 'test.csv'), index=False, header=False)\n",
    "print('saving results to ', ('compiled/' + dataset +'_' + scenario +'_' + 'test.csv') )"
   ]
  }
 ],
 "metadata": {
  "kernelspec": {
   "display_name": "Python 3",
   "language": "python",
   "name": "python3"
  },
  "language_info": {
   "codemirror_mode": {
    "name": "ipython",
    "version": 3
   },
   "file_extension": ".py",
   "mimetype": "text/x-python",
   "name": "python",
   "nbconvert_exporter": "python",
   "pygments_lexer": "ipython3",
   "version": "3.6.13"
  }
 },
 "nbformat": 4,
 "nbformat_minor": 5
}
