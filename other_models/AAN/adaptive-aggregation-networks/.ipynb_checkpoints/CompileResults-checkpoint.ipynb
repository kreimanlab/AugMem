{
 "cells": [
  {
   "cell_type": "code",
   "execution_count": 13,
   "id": "0ab1b33a",
   "metadata": {},
   "outputs": [
    {
     "name": "stdout",
     "output_type": "stream",
     "text": [
      "14.55877600778994\n",
      "14.19448815670913\n",
      "15.810559481196478\n",
      "14.952144100481561\n",
      "14.430895096217853\n",
      "12.551900106558389\n",
      "16.66859006520655\n",
      "15.548944595909768\n",
      "17.228263181864573\n",
      "17.84903749810561\n",
      "CVPR paper Table 2: cifar100 : 15.379359829003988\n"
     ]
    }
   ],
   "source": [
    "import torch\n",
    "import numpy as np\n",
    "\n",
    "dataset = \"cifar100\"\n",
    "scenario = 'class_iid'\n",
    "num_runs = 10\n",
    "fpathheader = dataset + \"_nfg5_ncls5_nproto20_run\"\n",
    "fpathpostfix = '_scenario_' + scenario + '_icarl_dual_b1ss_b2free_fixed_exp01'\n",
    "avgacc = []\n",
    "\n",
    "for r in range(num_runs):\n",
    "    re = torch.load('logs/'+fpathheader + str(r)+fpathpostfix + '/acc_list_cumul.pth')\n",
    "    avg = np.mean(re[:,1,:].squeeze())\n",
    "    print(avg)\n",
    "    avgacc.append(avg)\n",
    "\n",
    "result = sum(avgacc)/len(avgacc)\n",
    "print('CVPR paper Table 2: ' + dataset+' : ' + str(result))"
   ]
  },
  {
   "cell_type": "code",
   "execution_count": 9,
   "id": "0ecc3156",
   "metadata": {},
   "outputs": [
    {
     "name": "stdout",
     "output_type": "stream",
     "text": [
      "34.3925925925926\n",
      "31.307407407407407\n",
      "30.869629629629628\n",
      "30.93481481481482\n",
      "32.254074074074076\n",
      "33.60074074074074\n",
      "29.621481481481474\n",
      "29.897037037037034\n",
      "27.51259259259259\n",
      "29.402222222222225\n",
      "CVPR paper Table 2: core50 : 30.97925925925926\n",
      "[[74.66666667 34.77777778 27.40740741 18.88888889 16.22222222]\n",
      " [67.77777778 33.33333333 23.7037037  17.5        14.22222222]\n",
      " [64.22222222 32.88888889 24.37037037 18.33333333 14.53333333]\n",
      " [65.11111111 33.44444444 25.18518519 17.77777778 13.15555556]\n",
      " [67.11111111 35.         24.59259259 19.05555556 15.51111111]\n",
      " [70.44444444 39.66666667 26.14814815 16.94444444 14.8       ]\n",
      " [62.66666667 31.11111111 22.74074074 17.27777778 14.31111111]\n",
      " [62.88888889 32.         23.85185185 17.27777778 13.46666667]\n",
      " [61.33333333 28.88888889 21.40740741 14.55555556 11.37777778]\n",
      " [61.55555556 31.77777778 24.22222222 16.61111111 12.84444444]]\n",
      "saving results to  results/core50_class_instance_test.csv\n"
     ]
    }
   ],
   "source": [
    "import torch\n",
    "import numpy as np\n",
    "import pandas as pd\n",
    "\n",
    "dataset = \"core50\"\n",
    "scenario = 'class_instance'\n",
    "num_runs = 10\n",
    "fpathheader = dataset + \"_nfg2_ncls2_nproto20_run\"\n",
    "fpathpostfix = '_scenario_' + scenario + '_icarl_dual_b1ss_b2free_fixed_exp01'\n",
    "avgacc = []\n",
    "\n",
    "ntasks = 5\n",
    "csvresult = np.zeros((num_runs, ntasks))\n",
    "for r in range(num_runs):\n",
    "    re = torch.load('logs/'+fpathheader + str(r)+fpathpostfix + '/acc_list_cumul.pth')\n",
    "    csvresult[r,:] = re[:,1,:].squeeze()\n",
    "    avg = np.mean(re[:,1,:].squeeze())\n",
    "    print(avg)\n",
    "    avgacc.append(avg)\n",
    "\n",
    "result = sum(avgacc)/len(avgacc)\n",
    "print('CVPR paper Table 2: ' + dataset+' : ' + str(result))\n",
    "print(csvresult)\n",
    "\n",
    "#write to csv files\n",
    "test_df = pd.DataFrame(csvresult)\n",
    "test_df.to_csv(('results/' + dataset +'_' + scenario +'_' + 'test.csv'), index=False, header=False)\n",
    "print('saving results to ', ('results/' + dataset +'_' + scenario +'_' + 'test.csv') )"
   ]
  },
  {
   "cell_type": "code",
   "execution_count": null,
   "id": "3999525b",
   "metadata": {},
   "outputs": [],
   "source": []
  }
 ],
 "metadata": {
  "kernelspec": {
   "display_name": "Python 3",
   "language": "python",
   "name": "python3"
  },
  "language_info": {
   "codemirror_mode": {
    "name": "ipython",
    "version": 3
   },
   "file_extension": ".py",
   "mimetype": "text/x-python",
   "name": "python",
   "nbconvert_exporter": "python",
   "pygments_lexer": "ipython3",
   "version": "3.6.13"
  }
 },
 "nbformat": 4,
 "nbformat_minor": 5
}
